{
 "cells": [
  {
   "cell_type": "markdown",
   "id": "2447df59",
   "metadata": {},
   "source": [
    "# Exploratory data analysis on chips, by segments and packets and family size"
   ]
  },
  {
   "cell_type": "code",
   "execution_count": 16,
   "id": "d4ed83b6",
   "metadata": {},
   "outputs": [
    {
     "data": {
      "text/plain": [
       "{'Total Sales ($)': 511588.2999999999,\n",
       " 'Total Transactions': 74438,\n",
       " 'Total Customers': 43625,\n",
       " 'Average Spend per Transaction ($)': 6.872676589913753,\n",
       " 'Average Spend per Customer ($)': 11.726952435530087,\n",
       " 'Average Basket Size (packets)': 1.9076412584970042}"
      ]
     },
     "execution_count": 16,
     "metadata": {},
     "output_type": "execute_result"
    }
   ],
   "source": [
    "import pandas as pd\n",
    "merged_data = pd.read_csv(\"../data/MergedData.csv\")\n",
    "# Overall sales summary\n",
    "\n",
    "\n",
    "# Total sales\n",
    "total_sales = merged_data['TOT_SALES'].sum()\n",
    "\n",
    "# Total transactions (unique TXN_ID)\n",
    "total_transactions = merged_data['TXN_ID'].nunique()\n",
    "\n",
    "# Total customers (unique LYLTY_CARD_NBR)\n",
    "total_customers = merged_data['LYLTY_CARD_NBR'].nunique()\n",
    "\n",
    "# Average spend per transaction\n",
    "avg_spend_transaction = merged_data.groupby('TXN_ID')['TOT_SALES'].sum().mean()\n",
    "\n",
    "# Average spend per customer\n",
    "avg_spend_customer = merged_data.groupby('LYLTY_CARD_NBR')['TOT_SALES'].sum().mean()\n",
    "\n",
    "# Average quantity per transaction (basket size)\n",
    "avg_basket_size = merged_data.groupby('TXN_ID')['PROD_QTY'].sum().mean()\n",
    "\n",
    "summary = {\n",
    "    \"Total Sales ($)\": total_sales,\n",
    "    \"Total Transactions\": total_transactions,\n",
    "    \"Total Customers\": total_customers,\n",
    "    \"Average Spend per Transaction ($)\": avg_spend_transaction,\n",
    "    \"Average Spend per Customer ($)\": avg_spend_customer,\n",
    "    \"Average Basket Size (packets)\": avg_basket_size\n",
    "}\n",
    "summary"
   ]
  },
  {
   "cell_type": "code",
   "execution_count": 17,
   "id": "83625de1",
   "metadata": {},
   "outputs": [
    {
     "data": {
      "text/plain": [
       "(BRAND\n",
       " Smiths      129237.8\n",
       " Doritos     127597.3\n",
       " Thins        88852.5\n",
       " Cobs         70569.8\n",
       " Natural      34272.0\n",
       " WW           26655.1\n",
       " Tostitos     26474.8\n",
       " French        7929.0\n",
       " Name: TOT_SALES, dtype: float64,\n",
       " PACK_SIZE\n",
       " 175    183172.3\n",
       " 170    112396.4\n",
       " 110     70569.8\n",
       " 150     47622.9\n",
       " 380     36367.6\n",
       " 330     34804.2\n",
       " 200     16007.5\n",
       " 160     10647.6\n",
       " Name: TOT_SALES, dtype: float64)"
      ]
     },
     "execution_count": 17,
     "metadata": {},
     "output_type": "execute_result"
    }
   ],
   "source": [
    "# ---- Product Analysis ----\n",
    "\n",
    "# Extract packet size in grams from PROD_NAME (look for numbers ending with 'g')\n",
    "import re\n",
    "\n",
    "def get_packet_size(name):\n",
    "    match = re.search(r'(\\d+)\\s*g', name)\n",
    "    return int(match.group(1)) if match else None\n",
    "\n",
    "merged_data['PACK_SIZE'] = merged_data['PROD_NAME'].apply(get_packet_size)\n",
    "\n",
    "# Extract brand name (take first word of PROD_NAME as brand)\n",
    "merged_data['BRAND'] = merged_data['PROD_NAME'].str.split().str[0]\n",
    "\n",
    "# Sales by brand\n",
    "sales_by_brand = merged_data.groupby('BRAND')['TOT_SALES'].sum().sort_values(ascending=False)\n",
    "\n",
    "# Sales by packet size\n",
    "sales_by_packsize = merged_data.groupby('PACK_SIZE')['TOT_SALES'].sum().sort_values(ascending=False)\n",
    "\n",
    "# Top 10 brands and packet sizes\n",
    "top_brands = sales_by_brand.head(10)\n",
    "top_pack_sizes = sales_by_packsize.head(10)\n",
    "# Variables are all in dollars\n",
    "top_brands, top_pack_sizes\n"
   ]
  },
  {
   "cell_type": "code",
   "execution_count": 18,
   "id": "08a5bc97",
   "metadata": {},
   "outputs": [
    {
     "data": {
      "application/vnd.microsoft.datawrangler.viewer.v0+json": {
       "columns": [
        {
         "name": "('LIFESTAGE', 'PREMIUM_CUSTOMER')",
         "rawType": "object",
         "type": "unknown"
        },
        {
         "name": "PACK_SIZE",
         "rawType": "float64",
         "type": "float"
        }
       ],
       "ref": "fbb519f4-8d68-43ac-ab0e-fda6feb70529",
       "rows": [
        [
         "('YOUNG SINGLES/COUPLES', 'Mainstream')",
         "182.29310650363283"
        ],
        [
         "('MIDAGE SINGLES/COUPLES', 'Mainstream')",
         "182.08970897089708"
        ],
        [
         "('NEW FAMILIES', 'Premium')",
         "180.55679287305122"
        ],
        [
         "('OLDER FAMILIES', 'Budget')",
         "180.5283682520263"
        ],
        [
         "('RETIREES', 'Premium')",
         "180.34014557670773"
        ],
        [
         "('YOUNG FAMILIES', 'Budget')",
         "180.23122456529782"
        ],
        [
         "('RETIREES', 'Budget')",
         "179.96631823461092"
        ],
        [
         "('OLDER SINGLES/COUPLES', 'Budget')",
         "179.9255607115236"
        ],
        [
         "('OLDER FAMILIES', 'Premium')",
         "179.80836793356755"
        ],
        [
         "('OLDER SINGLES/COUPLES', 'Premium')",
         "179.78370221327967"
        ]
       ],
       "shape": {
        "columns": 1,
        "rows": 10
       }
      },
      "text/plain": [
       "LIFESTAGE               PREMIUM_CUSTOMER\n",
       "YOUNG SINGLES/COUPLES   Mainstream          182.293107\n",
       "MIDAGE SINGLES/COUPLES  Mainstream          182.089709\n",
       "NEW FAMILIES            Premium             180.556793\n",
       "OLDER FAMILIES          Budget              180.528368\n",
       "RETIREES                Premium             180.340146\n",
       "YOUNG FAMILIES          Budget              180.231225\n",
       "RETIREES                Budget              179.966318\n",
       "OLDER SINGLES/COUPLES   Budget              179.925561\n",
       "OLDER FAMILIES          Premium             179.808368\n",
       "OLDER SINGLES/COUPLES   Premium             179.783702\n",
       "Name: PACK_SIZE, dtype: float64"
      ]
     },
     "metadata": {},
     "output_type": "display_data"
    },
    {
     "data": {
      "application/vnd.microsoft.datawrangler.viewer.v0+json": {
       "columns": [
        {
         "name": "index",
         "rawType": "int64",
         "type": "integer"
        },
        {
         "name": "LIFESTAGE",
         "rawType": "object",
         "type": "string"
        },
        {
         "name": "PREMIUM_CUSTOMER",
         "rawType": "object",
         "type": "string"
        },
        {
         "name": "BRAND",
         "rawType": "object",
         "type": "string"
        },
        {
         "name": "TOT_SALES",
         "rawType": "float64",
         "type": "float"
        }
       ],
       "ref": "12cbcbd7-0585-4bc5-88d2-80832c5d7fe3",
       "rows": [
        [
         "1",
         "MIDAGE SINGLES/COUPLES",
         "Budget",
         "Doritos",
         "2563.8"
        ],
        [
         "12",
         "MIDAGE SINGLES/COUPLES",
         "Mainstream",
         "Smiths",
         "6302.5"
        ],
        [
         "20",
         "MIDAGE SINGLES/COUPLES",
         "Premium",
         "Smiths",
         "3792.4"
        ],
        [
         "25",
         "NEW FAMILIES",
         "Budget",
         "Doritos",
         "1468.1000000000001"
        ],
        [
         "33",
         "NEW FAMILIES",
         "Mainstream",
         "Doritos",
         "1223.8"
        ],
        [
         "41",
         "NEW FAMILIES",
         "Premium",
         "Doritos",
         "854.1"
        ],
        [
         "52",
         "OLDER FAMILIES",
         "Budget",
         "Smiths",
         "12310.4"
        ],
        [
         "60",
         "OLDER FAMILIES",
         "Mainstream",
         "Smiths",
         "7490.1"
        ],
        [
         "68",
         "OLDER FAMILIES",
         "Premium",
         "Smiths",
         "5741.4"
        ],
        [
         "73",
         "OLDER SINGLES/COUPLES",
         "Budget",
         "Doritos",
         "9120.2"
        ]
       ],
       "shape": {
        "columns": 4,
        "rows": 10
       }
      },
      "text/html": [
       "<div>\n",
       "<style scoped>\n",
       "    .dataframe tbody tr th:only-of-type {\n",
       "        vertical-align: middle;\n",
       "    }\n",
       "\n",
       "    .dataframe tbody tr th {\n",
       "        vertical-align: top;\n",
       "    }\n",
       "\n",
       "    .dataframe thead th {\n",
       "        text-align: right;\n",
       "    }\n",
       "</style>\n",
       "<table border=\"1\" class=\"dataframe\">\n",
       "  <thead>\n",
       "    <tr style=\"text-align: right;\">\n",
       "      <th></th>\n",
       "      <th>LIFESTAGE</th>\n",
       "      <th>PREMIUM_CUSTOMER</th>\n",
       "      <th>BRAND</th>\n",
       "      <th>TOT_SALES</th>\n",
       "    </tr>\n",
       "  </thead>\n",
       "  <tbody>\n",
       "    <tr>\n",
       "      <th>1</th>\n",
       "      <td>MIDAGE SINGLES/COUPLES</td>\n",
       "      <td>Budget</td>\n",
       "      <td>Doritos</td>\n",
       "      <td>2563.8</td>\n",
       "    </tr>\n",
       "    <tr>\n",
       "      <th>12</th>\n",
       "      <td>MIDAGE SINGLES/COUPLES</td>\n",
       "      <td>Mainstream</td>\n",
       "      <td>Smiths</td>\n",
       "      <td>6302.5</td>\n",
       "    </tr>\n",
       "    <tr>\n",
       "      <th>20</th>\n",
       "      <td>MIDAGE SINGLES/COUPLES</td>\n",
       "      <td>Premium</td>\n",
       "      <td>Smiths</td>\n",
       "      <td>3792.4</td>\n",
       "    </tr>\n",
       "    <tr>\n",
       "      <th>25</th>\n",
       "      <td>NEW FAMILIES</td>\n",
       "      <td>Budget</td>\n",
       "      <td>Doritos</td>\n",
       "      <td>1468.1</td>\n",
       "    </tr>\n",
       "    <tr>\n",
       "      <th>33</th>\n",
       "      <td>NEW FAMILIES</td>\n",
       "      <td>Mainstream</td>\n",
       "      <td>Doritos</td>\n",
       "      <td>1223.8</td>\n",
       "    </tr>\n",
       "    <tr>\n",
       "      <th>41</th>\n",
       "      <td>NEW FAMILIES</td>\n",
       "      <td>Premium</td>\n",
       "      <td>Doritos</td>\n",
       "      <td>854.1</td>\n",
       "    </tr>\n",
       "    <tr>\n",
       "      <th>52</th>\n",
       "      <td>OLDER FAMILIES</td>\n",
       "      <td>Budget</td>\n",
       "      <td>Smiths</td>\n",
       "      <td>12310.4</td>\n",
       "    </tr>\n",
       "    <tr>\n",
       "      <th>60</th>\n",
       "      <td>OLDER FAMILIES</td>\n",
       "      <td>Mainstream</td>\n",
       "      <td>Smiths</td>\n",
       "      <td>7490.1</td>\n",
       "    </tr>\n",
       "    <tr>\n",
       "      <th>68</th>\n",
       "      <td>OLDER FAMILIES</td>\n",
       "      <td>Premium</td>\n",
       "      <td>Smiths</td>\n",
       "      <td>5741.4</td>\n",
       "    </tr>\n",
       "    <tr>\n",
       "      <th>73</th>\n",
       "      <td>OLDER SINGLES/COUPLES</td>\n",
       "      <td>Budget</td>\n",
       "      <td>Doritos</td>\n",
       "      <td>9120.2</td>\n",
       "    </tr>\n",
       "  </tbody>\n",
       "</table>\n",
       "</div>"
      ],
      "text/plain": [
       "                 LIFESTAGE PREMIUM_CUSTOMER    BRAND  TOT_SALES\n",
       "1   MIDAGE SINGLES/COUPLES           Budget  Doritos     2563.8\n",
       "12  MIDAGE SINGLES/COUPLES       Mainstream   Smiths     6302.5\n",
       "20  MIDAGE SINGLES/COUPLES          Premium   Smiths     3792.4\n",
       "25            NEW FAMILIES           Budget  Doritos     1468.1\n",
       "33            NEW FAMILIES       Mainstream  Doritos     1223.8\n",
       "41            NEW FAMILIES          Premium  Doritos      854.1\n",
       "52          OLDER FAMILIES           Budget   Smiths    12310.4\n",
       "60          OLDER FAMILIES       Mainstream   Smiths     7490.1\n",
       "68          OLDER FAMILIES          Premium   Smiths     5741.4\n",
       "73   OLDER SINGLES/COUPLES           Budget  Doritos     9120.2"
      ]
     },
     "metadata": {},
     "output_type": "display_data"
    }
   ],
   "source": [
    "# ---- Combined Product + Customer Insights ----\n",
    "\n",
    "# Average pack size purchased by each segment (Lifestage + Premium)\n",
    "avg_packsize_by_segment = merged_data.groupby(['LIFESTAGE','PREMIUM_CUSTOMER'])['PACK_SIZE'].mean().sort_values(ascending=False)\n",
    "\n",
    "# Top brands by segment (which brand dominates in each segment)\n",
    "brand_sales_by_segment = merged_data.groupby(['LIFESTAGE','PREMIUM_CUSTOMER','BRAND'])['TOT_SALES'].sum().reset_index()\n",
    "\n",
    "# For each segment, find the top brand\n",
    "top_brand_per_segment = brand_sales_by_segment.loc[brand_sales_by_segment.groupby(['LIFESTAGE','PREMIUM_CUSTOMER'])['TOT_SALES'].idxmax()]\n",
    "\n",
    "display(avg_packsize_by_segment.head(10))\n",
    "display(top_brand_per_segment.head(10))\n"
   ]
  }
 ],
 "metadata": {
  "kernelspec": {
   "display_name": "base",
   "language": "python",
   "name": "python3"
  },
  "language_info": {
   "codemirror_mode": {
    "name": "ipython",
    "version": 3
   },
   "file_extension": ".py",
   "mimetype": "text/x-python",
   "name": "python",
   "nbconvert_exporter": "python",
   "pygments_lexer": "ipython3",
   "version": "3.12.7"
  }
 },
 "nbformat": 4,
 "nbformat_minor": 5
}
